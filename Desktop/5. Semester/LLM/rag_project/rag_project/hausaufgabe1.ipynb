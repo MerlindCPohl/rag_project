{
 "cells": [
  {
   "cell_type": "code",
   "execution_count": 1,
   "id": "fc0bfbce-6c92-4723-922b-687f10243a8c",
   "metadata": {},
   "outputs": [
    {
     "ename": "SyntaxError",
     "evalue": "unterminated string literal (detected at line 5) (2527295920.py, line 5)",
     "output_type": "error",
     "traceback": [
      "  \u001b[36mCell\u001b[39m\u001b[36m \u001b[39m\u001b[32mIn[1]\u001b[39m\u001b[32m, line 5\u001b[39m\n\u001b[31m    \u001b[39m\u001b[31m{\"id\": 1, \"text\": \"Ada Lovelace is considered the first computer\u001b[39m\n                      ^\n\u001b[31mSyntaxError\u001b[39m\u001b[31m:\u001b[39m unterminated string literal (detected at line 5)\n"
     ]
    }
   ],
   "source": [
    "# Hello world\n",
    "print(\"Hello world, I am coding in Python!\")\n",
    "# Working with a list of text entries\n",
    "knowledge_base = [\n",
    "{\"id\": 1, \"text\": \"Ada Lovelace is considered the first computer\n",
    "programmer for her work on Charles Babbage's Analytical Engine.\"},\n",
    "{\"id\": 2, \"text\": \"Grace Hopper was a pioneer in computer\n",
    "programming and developed the first compiler for a computer programming\n",
    "language.\"},\n",
    "{\"id\": 3, \"text\": \"Katherine Johnson was a mathematician whose\n",
    "calculations of orbital mechanics were critical to the success of\n",
    "NASA's space missions.\"},\n",
    "{\"id\": 4, \"text\": \"Radia Perlman is known as the 'Mother of the\n",
    "Internet' for her invention of the spanning-tree protocol (STP) that\n",
    "made modern Ethernet networks possible.\"},\n",
    "{\"id\": 5, \"text\": \"Barbara Liskov is a computer scientist\n",
    "recognized for her work in programming languages and system design,\n",
    "including the Liskov Substitution Principle.\"}\n",
    "]\n",
    "# Print all entires\n",
    "for entry in knowledge_base:\n",
    "print(f\"{entry['id']}: {entry['text']}\")"
   ]
  },
  {
   "cell_type": "code",
   "execution_count": 2,
   "id": "1e3059bb-9334-4931-b6f1-56129dde598d",
   "metadata": {},
   "outputs": [
    {
     "name": "stdout",
     "output_type": "stream",
     "text": [
      "Hello world, I am coding in Python!\n",
      "1: Ada Lovelace is considered the first computer programmer for her work on Charles Babbage's Analytical Engine.\n",
      "2: Grace Hopper was a pioneer in computer programming and developed the first compiler for a computer programming language.\n",
      "3: Katherine Johnson was a mathematician whose calculations of orbital mechanics were critical to the success of NASA's space missions.\n",
      "4: Radia Perlman is known as the 'Mother of the Internet' for her invention of the spanning-tree protocol (STP) that made modern Ethernet networks possible.\n",
      "5: Barbara Liskov is a computer scientist recognized for her work in programming languages and system design, including the Liskov Substitution Principle.\n"
     ]
    }
   ],
   "source": [
    "# Hello world\n",
    "print(\"Hello world, I am coding in Python!\")\n",
    "\n",
    "# Working with a list of text entries\n",
    "knowledge_base = [\n",
    "    {\"id\": 1, \"text\": \"Ada Lovelace is considered the first computer programmer for her work on Charles Babbage's Analytical Engine.\"},\n",
    "    {\"id\": 2, \"text\": \"Grace Hopper was a pioneer in computer programming and developed the first compiler for a computer programming language.\"},\n",
    "    {\"id\": 3, \"text\": \"Katherine Johnson was a mathematician whose calculations of orbital mechanics were critical to the success of NASA's space missions.\"},\n",
    "    {\"id\": 4, \"text\": \"Radia Perlman is known as the 'Mother of the Internet' for her invention of the spanning-tree protocol (STP) that made modern Ethernet networks possible.\"},\n",
    "    {\"id\": 5, \"text\": \"Barbara Liskov is a computer scientist recognized for her work in programming languages and system design, including the Liskov Substitution Principle.\"}\n",
    "]\n",
    "\n",
    "# Print all entries\n",
    "for entry in knowledge_base:\n",
    "    print(f\"{entry['id']}: {entry['text']}\")\n"
   ]
  },
  {
   "cell_type": "code",
   "execution_count": null,
   "id": "56040bee-f61f-44ff-be89-87aaa7584d00",
   "metadata": {},
   "outputs": [],
   "source": []
  }
 ],
 "metadata": {
  "kernelspec": {
   "display_name": "Python 3 (ipykernel)",
   "language": "python",
   "name": "python3"
  },
  "language_info": {
   "codemirror_mode": {
    "name": "ipython",
    "version": 3
   },
   "file_extension": ".py",
   "mimetype": "text/x-python",
   "name": "python",
   "nbconvert_exporter": "python",
   "pygments_lexer": "ipython3",
   "version": "3.14.0"
  }
 },
 "nbformat": 4,
 "nbformat_minor": 5
}
